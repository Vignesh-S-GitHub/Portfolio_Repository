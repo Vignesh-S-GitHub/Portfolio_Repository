{
  "nbformat": 4,
  "nbformat_minor": 0,
  "metadata": {
    "colab": {
      "provenance": [],
      "mount_file_id": "1EVH952MaOsB1TOTtuDBJ10XpZmpEiCwn",
      "authorship_tag": "ABX9TyOLqdka05vze2s3kjwUblHR",
      "include_colab_link": true
    },
    "kernelspec": {
      "name": "python3",
      "display_name": "Python 3"
    },
    "language_info": {
      "name": "python"
    }
  },
  "cells": [
    {
      "cell_type": "markdown",
      "metadata": {
        "id": "view-in-github",
        "colab_type": "text"
      },
      "source": [
        "<a href=\"https://colab.research.google.com/github/Vignesh-S-GitHub/My-Projects/blob/main/IPL_Analysis.ipynb\" target=\"_parent\"><img src=\"https://colab.research.google.com/assets/colab-badge.svg\" alt=\"Open In Colab\"/></a>"
      ]
    },
    {
      "cell_type": "markdown",
      "source": [
        "### **IPL 2008 to 2023 data Analysis!**\n",
        "\n",
        "![Image](https://v3img.voot.com/v3Storage/assets/ipl_show_page_horizontal-1703009154244.jpg)\n"
      ],
      "metadata": {
        "id": "ZcAIuDvfVs_V"
      }
    },
    {
      "cell_type": "markdown",
      "source": [
        "\n",
        "\n",
        "## **We will analysis the IPL data from 2008 from 2023 and get insights try to find the answers below**\n",
        "\n",
        "1. Who is most Toss Won Team and eventually won that match?\n",
        "2. After Toss win, which team has won most match when it's choose BOWL FIRST?\n",
        "3. After Toss win, which team has won most match when it's choose BAT FIRST?\n",
        "4. Which venue is the teams are the most powerful to play and won the match?\n",
        "5. The Team won the highest times when, which Captain is leading the game?\n",
        "6. Home key Player are leads to win when they perform well?\n",
        "\n",
        "\n"
      ],
      "metadata": {
        "id": "YkkkgzAzX0HC"
      }
    },
    {
      "cell_type": "code",
      "execution_count": 4,
      "metadata": {
        "id": "g3FIaETLUsA8"
      },
      "outputs": [],
      "source": [
        "#Import All the Required Librarys\n",
        "import pandas as pd\n",
        "import numpy as np\n",
        "import matplotlib.pyplot as plt\n",
        "import seaborn as sns"
      ]
    },
    {
      "cell_type": "code",
      "source": [
        "#read the CSV and chech the data\n",
        "columns = [\"season\",\"name\",\"short_name\",\"home_team\",\"away_team\",\"decision\",\"1st_inning_score\",\"2nd_inning_score\",\\\n",
        "           \"winner\",'venue_name',\"home_captain\",\"away_captain\",\"home_overs\",\"home_runs\",\"home_wickets\",\"home_boundaries\",\\\n",
        "           \"away_overs\", \"away_runs\", \"away_wickets\", \"away_boundaries\",\"home_key_batsman\",\"home_key_bowler\",\\\n",
        "           \"home_playx1\", \"away_playx1\", \"away_key_batsman\", \"away_key_bowler\",\"umpire1\", \"umpire2\", \"tv_umpire\",\\\n",
        "           \"referee\",\t\"reserve_umpire\",\"toss_won\"]\n",
        "df_ipl = pd.read_csv(\"/content/drive/MyDrive/Project_Data/IPL_Data/IPL_Data_2008-2023.csv\", usecols=columns)\n",
        "#df_ipl.head()"
      ],
      "metadata": {
        "id": "SsAzkoKIZ8UM"
      },
      "execution_count": 5,
      "outputs": []
    },
    {
      "cell_type": "code",
      "source": [
        "#Check for missing values:\n",
        "print(df_ipl.isnull().sum())"
      ],
      "metadata": {
        "id": "NETpjgzBjZ7a"
      },
      "execution_count": null,
      "outputs": []
    },
    {
      "cell_type": "code",
      "source": [
        "#Check for duplicates:\n",
        "print(df_ipl.duplicated().sum())"
      ],
      "metadata": {
        "id": "_v7zw9cXkh1R"
      },
      "execution_count": null,
      "outputs": []
    },
    {
      "cell_type": "code",
      "source": [
        "#Check the Data Descritions\n",
        "df_ipl.describe()"
      ],
      "metadata": {
        "id": "v_XPr1Zfkc86"
      },
      "execution_count": null,
      "outputs": []
    },
    {
      "cell_type": "code",
      "source": [
        "# Discover the column names\n",
        "df_ipl.columns"
      ],
      "metadata": {
        "id": "Ka1ULk9bkmIQ"
      },
      "execution_count": null,
      "outputs": []
    },
    {
      "cell_type": "code",
      "source": [
        "# Get summary information of the dataframe\n",
        "df_ipl.info()"
      ],
      "metadata": {
        "id": "4LXXckElko7E"
      },
      "execution_count": null,
      "outputs": []
    },
    {
      "cell_type": "code",
      "source": [
        "#Check the Shape of df_ipl\n",
        "df_ipl.shape"
      ],
      "metadata": {
        "id": "_7R-UFMzm-tx"
      },
      "execution_count": null,
      "outputs": []
    },
    {
      "cell_type": "markdown",
      "source": [
        "##Who is most Toss Won Team and eventually won that match?"
      ],
      "metadata": {
        "id": "FN-dOoFVlKaU"
      }
    },
    {
      "cell_type": "code",
      "source": [
        "df_ipl_toss_won = df_ipl.loc[:, [\"toss_won\",\"winner\"]]\n",
        "df_ipl_toss_won.head()\n"
      ],
      "metadata": {
        "id": "Z0Oj48KTlL_z"
      },
      "execution_count": null,
      "outputs": []
    },
    {
      "cell_type": "code",
      "source": [
        "ipl_short_name = df_ipl['short_name'].str.split(\" v \").str.get(0).unique()"
      ],
      "metadata": {
        "id": "KXV-CXnk8tUG"
      },
      "execution_count": 13,
      "outputs": []
    },
    {
      "cell_type": "code",
      "source": [
        "win_count = df_ipl['winner'].value_counts(sort=True)\n",
        "toss_count = df_ipl['toss_won'].value_counts(sort=True)\n",
        "win_toss_df = pd.merge(win_count,toss_count, how=\"inner\", left_index=True,right_index=True)\n",
        "print(win_toss_df)"
      ],
      "metadata": {
        "id": "DjH-PX6HBX2n"
      },
      "execution_count": null,
      "outputs": []
    },
    {
      "cell_type": "code",
      "source": [
        "sns.catplot(data=win_toss_df, x=win_toss_df.index, y=\"winner\", kind=\"bar\", hue=\"toss_won\", errorbar=('ci', False))\n",
        "plt.xticks(rotation=45)\n",
        "plt.xlabel(\"IPL Team\")\n",
        "plt.title(\"IPL Highest Toss Win and Match Win\")\n",
        "plt.savefig(\"/content/IPL_Data/my_seaborn_plot.png\",dpi=300, bbox_inches='tight')"
      ],
      "metadata": {
        "colab": {
          "base_uri": "https://localhost:8080/",
          "height": 551
        },
        "id": "BLvxp3rMJv9K",
        "outputId": "9fa47492-f15a-4b88-b700-2dd15d12e934"
      },
      "execution_count": 15,
      "outputs": [
        {
          "output_type": "display_data",
          "data": {
            "text/plain": [
              "<Figure size 576.375x500 with 1 Axes>"
            ],
            "image/png": "[encoded data removed]"
          },
          "metadata": {}
        }
      ]
    }
  ]
}